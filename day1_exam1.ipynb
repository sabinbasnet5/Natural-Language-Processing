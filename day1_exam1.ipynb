{
 "cells": [
  {
   "cell_type": "markdown",
   "id": "809805d4-9e39-4638-8e8f-609430676b70",
   "metadata": {},
   "source": [
    "# Provide commands that find the 50 most common words in the NYT."
   ]
  },
  {
   "cell_type": "code",
   "execution_count": 2,
   "id": "2c3b7d3f-6af4-4b9a-828a-24f203dced1c",
   "metadata": {},
   "outputs": [
    {
     "name": "stdout",
     "output_type": "stream",
     "text": [
      "day1_exam1_a.ipynb  nyt.txt\n"
     ]
    }
   ],
   "source": [
    "ls"
   ]
  },
  {
   "cell_type": "code",
   "execution_count": 3,
   "id": "68aa8da8-6dc0-4931-8b3c-d300b97959dd",
   "metadata": {},
   "outputs": [
    {
     "name": "stdout",
     "output_type": "stream",
     "text": [
      "104269 \n",
      "26561 the\n",
      "12856 a\n",
      "12765 to\n",
      "12514 of\n",
      "11816 and\n",
      "10397 in\n",
      "5802 that\n",
      "5561 s\n",
      "4864 for\n",
      "4266 is\n",
      "4034 on\n",
      "3809 said\n",
      "3455 was\n",
      "3322 with\n",
      "3291 The\n",
      "3254 he\n",
      "3031 it\n",
      "2843 at\n",
      "2728 as\n",
      "2595 his\n",
      "2584 I\n",
      "2450 be\n",
      "2432 have\n",
      "2186 are\n",
      "2183 by\n",
      "2178 has\n",
      "2034 from\n",
      "1994 not\n",
      "1978 an\n",
      "1833 who\n",
      "1588 they\n",
      "1580 had\n",
      "1497 t\n",
      "1487 this\n",
      "1448 their\n",
      "1398 about\n",
      "1371 but\n",
      "1354 or\n",
      "1346 will\n",
      "1300 more\n",
      "1283 were\n",
      "1197 one\n",
      "1191 But\n",
      "1188 would\n",
      "1175 Obama\n",
      "1144 been\n",
      "1137 we\n",
      "1116 you\n",
      "1083 up\n",
      "sort: Broken pipe\n"
     ]
    }
   ],
   "source": [
    "\"\"\" Here, first, we replace non-alphanumeric characters with newline characters, making each word appear on a new line.\n",
    "    and, we give a specific input file, then use various like the sort for sorting the words alphabetically, uniqu -c\n",
    "    the occurrence of each word, sort -nr to sort the words by frequency in descending order and head -50 to display the top\n",
    "    50 words.\n",
    "\"\"\"\n",
    "!tr -c '[:alnum:]' '[\\n*]' < \"nyt.txt\" | sort | uniq -c | sort -nr | head -50"
   ]
  },
  {
   "cell_type": "code",
   "execution_count": 8,
   "id": "4a2e4676-9e27-434f-9261-a05e80442c85",
   "metadata": {},
   "outputs": [
    {
     "name": "stdout",
     "output_type": "stream",
     "text": [
      "the: 29900\n",
      "a: 13487\n",
      "to: 12915\n",
      "of: 12586\n",
      "and: 12408\n",
      "in: 11250\n",
      "that: 6219\n",
      "s: 5789\n",
      "for: 5156\n",
      "on: 4297\n",
      "is: 4297\n",
      "he: 4236\n",
      "it: 4101\n",
      "said: 3813\n",
      "with: 3513\n",
      "was: 3467\n",
      "at: 3087\n",
      "as: 3009\n",
      "his: 2787\n",
      "i: 2593\n",
      "but: 2563\n",
      "be: 2461\n",
      "have: 2441\n",
      "by: 2364\n",
      "are: 2207\n",
      "has: 2186\n",
      "not: 2097\n",
      "from: 2088\n",
      "they: 2072\n",
      "an: 2044\n",
      "we: 1923\n",
      "who: 1873\n",
      "this: 1839\n",
      "had: 1585\n",
      "t: 1549\n",
      "their: 1494\n",
      "about: 1432\n",
      "you: 1427\n",
      "or: 1385\n",
      "will: 1385\n",
      "one: 1377\n",
      "more: 1352\n",
      "were: 1287\n",
      "she: 1204\n",
      "new: 1202\n",
      "would: 1197\n",
      "when: 1193\n",
      "obama: 1180\n",
      "there: 1146\n",
      "been: 1144\n"
     ]
    }
   ],
   "source": [
    "from collections import Counter\n",
    "import re\n",
    "\n",
    "# Reading the file\n",
    "with open('nyt.txt', 'r') as file:\n",
    "    text = file.read().lower()\n",
    "\n",
    "# Extracting words using regex\n",
    "words = re.findall(r'\\b\\w+\\b', text)\n",
    "\n",
    "# Counting the frequency of each word\n",
    "word_counts = Counter(words)\n",
    "\n",
    "# Get the 50 most common words\n",
    "most_common_words = word_counts.most_common(50)\n",
    "\n",
    "# Display the results\n",
    "for word, count in most_common_words:\n",
    "    print(f\"{word}: {count}\") #Printing the most common words with it's count"
   ]
  },
  {
   "cell_type": "markdown",
   "id": "414d861f-9026-42dc-8c4a-aae4eff02ab6",
   "metadata": {},
   "source": [
    "# Provide commands that find the words in the NYT that end in \"zz\""
   ]
  },
  {
   "cell_type": "code",
   "execution_count": 9,
   "id": "bb72f16d-1bb2-45be-9d61-17a77c778e8b",
   "metadata": {},
   "outputs": [
    {
     "name": "stdout",
     "output_type": "stream",
     "text": [
      "Buzz\n",
      "Jazz\n",
      "buzz\n",
      "jazz\n",
      "pizazz\n"
     ]
    }
   ],
   "source": [
    "\"\"\" Here, first, we replace non-alphanumeric characters with newline characters, making each word appear on a new line.\n",
    "    and, we give a specific input file, then grep 'zz$' filter the words that end with \"zz\", sort sorts the output and\n",
    "    uniq removes the duplicate entries.\n",
    "\"\"\"\n",
    "!tr -c '[:alnum:]' '[\\n*]' < \"nyt.txt\" | grep 'zz$' | sort | uniq"
   ]
  },
  {
   "cell_type": "code",
   "execution_count": 10,
   "id": "836d4f07-27f3-44ee-a7ba-10351cd1752e",
   "metadata": {},
   "outputs": [
    {
     "name": "stdout",
     "output_type": "stream",
     "text": [
      "buzz\n",
      "jazz\n",
      "pizazz\n"
     ]
    }
   ],
   "source": [
    "# Finding the words ending in \"zz\"\n",
    "zz_words = [word for word in words if word.endswith('zz')]\n",
    "\n",
    "# Getting the unique words\n",
    "unique_zz_words = sorted(set(zz_words))\n",
    "\n",
    "# Display the results\n",
    "for word in unique_zz_words:\n",
    "    print(word)"
   ]
  },
  {
   "cell_type": "code",
   "execution_count": null,
   "id": "c503e4dd-41c0-421a-aa40-c3e3136b68b8",
   "metadata": {},
   "outputs": [],
   "source": []
  }
 ],
 "metadata": {
  "kernelspec": {
   "display_name": "Python 3 (ipykernel)",
   "language": "python",
   "name": "python3"
  },
  "language_info": {
   "codemirror_mode": {
    "name": "ipython",
    "version": 3
   },
   "file_extension": ".py",
   "mimetype": "text/x-python",
   "name": "python",
   "nbconvert_exporter": "python",
   "pygments_lexer": "ipython3",
   "version": "3.11.7"
  }
 },
 "nbformat": 4,
 "nbformat_minor": 5
}
