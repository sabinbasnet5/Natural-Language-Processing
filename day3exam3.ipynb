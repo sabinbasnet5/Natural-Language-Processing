{
 "cells": [
  {
   "cell_type": "code",
   "execution_count": 13,
   "id": "6ec925d4-3f3f-404d-b7ad-542e0fa9d94f",
   "metadata": {},
   "outputs": [],
   "source": [
    "import math\n",
    "\n",
    "# Training data\n",
    "positive = [\"pretty interesting movie\"]\n",
    "negative = [\"the movie has no plot\", \"honestly pretty boring\"]\n",
    "\n",
    "# Test data\n",
    "test_set = \"pretty enjoyable plot\"\n",
    "\n",
    "# Creating a vocabulary\n",
    "vocabulary = set(word for training_set in positive + negative for word in training_set.split())\n"
   ]
  },
  {
   "cell_type": "code",
   "execution_count": 14,
   "id": "c55de0e3-2785-4fe5-9833-02c6d140cbe3",
   "metadata": {},
   "outputs": [],
   "source": [
    "# Calculate prior probabilities\n",
    "positive_number = len(positive)\n",
    "negative_number = len(negative)\n",
    "total = positive_number + negative_number\n",
    "p_positive = positive_number / total\n",
    "p_negative = negative_number / total"
   ]
  },
  {
   "cell_type": "code",
   "execution_count": 15,
   "id": "b6d49fcf-ebd6-4ca8-9404-1f6005f9113f",
   "metadata": {},
   "outputs": [],
   "source": [
    "# Calculating the conditional probabilities\n",
    "def conditional_probability(word, training_sets):\n",
    "    count = 0\n",
    "    for training_set in training_sets:\n",
    "        count += training_set.split().count(word)\n",
    "    return (count + 1) / (len(vocabulary) + len(training_set.split()))"
   ]
  },
  {
   "cell_type": "code",
   "execution_count": 16,
   "id": "20ff1023-5f5c-42ed-a255-1728e2e07f5a",
   "metadata": {},
   "outputs": [],
   "source": [
    "# Calculating the posterior probabilities\n",
    "def posterior_probability(training_set, is_positive):\n",
    "    probability = p_positive if is_positive else p_negative\n",
    "    for word in training_set.split():\n",
    "        probability *= calculate_conditional_probability(word, positive if is_positive else negative)\n",
    "    return probability"
   ]
  },
  {
   "cell_type": "code",
   "execution_count": 17,
   "id": "ee071346-45e3-4841-b068-324b90277e9b",
   "metadata": {},
   "outputs": [
    {
     "name": "stdout",
     "output_type": "stream",
     "text": [
      "The test set is classified as negative.\n"
     ]
    }
   ],
   "source": [
    "\n",
    "# Classify the test review\n",
    "positive_probability = posterior_probability(test_set, True)\n",
    "negative_probability = posterior_probability(test_set, False)\n",
    "\n",
    "if positive_probability > negative_probability:\n",
    "    print(\"The test set is classified as positive.\")\n",
    "elif positive_probability < negative_probability:\n",
    "    print(\"The test set is classified as negative.\")\n",
    "else:\n",
    "    print(\"The test set is neutral.\")"
   ]
  },
  {
   "cell_type": "code",
   "execution_count": null,
   "id": "85e0f242-743a-4c6b-b16b-1b7935e9d866",
   "metadata": {},
   "outputs": [],
   "source": []
  }
 ],
 "metadata": {
  "kernelspec": {
   "display_name": "Python 3 (ipykernel)",
   "language": "python",
   "name": "python3"
  },
  "language_info": {
   "codemirror_mode": {
    "name": "ipython",
    "version": 3
   },
   "file_extension": ".py",
   "mimetype": "text/x-python",
   "name": "python",
   "nbconvert_exporter": "python",
   "pygments_lexer": "ipython3",
   "version": "3.11.7"
  }
 },
 "nbformat": 4,
 "nbformat_minor": 5
}
